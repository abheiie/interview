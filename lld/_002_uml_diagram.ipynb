{
 "cells": [
  {
   "cell_type": "markdown",
   "metadata": {},
   "source": [
    "# UML diagram \n",
    "-   Standardized set of visualization\n",
    "\n",
    "### UML diagram types \n",
    "-   Structural \n",
    "-   Behavioural \n",
    "\n",
    "\n",
    "## Structural UML diagrams \n",
    "-   **Class Diagram (Most Important)\n",
    "-   Object Diagram (Different object for same class)\n",
    "-   Package Diagram \n",
    "\n",
    "\n",
    "## Behavioural UML diagrams \n",
    "FLows between system, how components of system talk to eachother!\n",
    "-   **Use Case (Functionalities of system)\n",
    "-   Sequence (Step by step flow of system)\n",
    "-   State (state of system)\n",
    "\n",
    "\n",
    "FOR MORE @ - https://creately.com/blog/diagrams/uml-diagram-types-examples/"
   ]
  },
  {
   "cell_type": "markdown",
   "metadata": {},
   "source": [
    "# USE CASE Diagram\n",
    "https://creately.com/blog/diagrams/use-case-diagram-relationships/\n",
    "-   Functionalities (use cases)\n",
    "-   Stakeholder\n"
   ]
  },
  {
   "cell_type": "markdown",
   "metadata": {},
   "source": [
    "To create diagram (PLANT UML LIBRARY)\n",
    "https://www.plantuml.com/plantuml/uml/RLBDKW8n3BxtAI8dEE03U61WlAX7qGS8RMGxzaURrD5nV7TfImUgN7QRBzzFDzar2oR9tgahcSWJeBTxL8vU12H2ilj9mDX4McmCIg6Mc60hsL2GOtKVM58kHwKA4SFU4MmrEahmhG00CfD69fWzH1j0EsIU0JAKSYHizKGcEm9FePWpCH-IAxltHiKZsiFhQGE9tZEnL6e5HzxpcujeMZY4ADIkqE0_byWxRmKukYmzl67g_-UKvbsikUrmcRB9nbBGD3ilAhK-vaMvWEiLp8jY0JT0dqB1S6jtnMNA67axaNxj0yGFj0vtrbdvgjcrsqpxG9jfRHHN6xJBXbZzA7LSDIoNgxgj0UZwSx2EVaJww4u_oibkn3frHFkErXHCzkuN"
   ]
  },
  {
   "cell_type": "code",
   "execution_count": null,
   "metadata": {},
   "outputs": [],
   "source": [
    "\"\"\"\n",
    "@startuml\n",
    "!theme amiga\n",
    "left to right direction\n",
    "\n",
    "actor Student\n",
    "actor Instructor\n",
    "\n",
    "rectangle Academy {\n",
    "    usecase \"Join class\" as Join\n",
    "    usecase \"Schedule mentor session\" as Schedule\n",
    "    usecase \"Raise TA request\" as Raise\n",
    "    usecase \"Upload class notes\" as Upload\n",
    "    usecase \"Submit solution\" as Submit\n",
    "\n",
    "    usecase \"Join as Host\" as Host\n",
    "    usecase \"Join as Audience\" as Audience\n",
    "    \n",
    "    (Host) .> (Join) : extends\n",
    "    (Audience) .> (Join) : extends\n",
    "\n",
    "    usecase \"Check mentor availability\" as Check\n",
    "    (Schedule) .> (Check) : includes\n",
    "}\n",
    "\n",
    "Student --> Join\n",
    "Student --> Schedule\n",
    "Student --> Raise\n",
    "Student --> Submit\n",
    "\n",
    "Instructor --> Join\n",
    "Instructor --> Submit\n",
    "Instructor --> Upload\n",
    "@enduml\n",
    "\"\"\""
   ]
  },
  {
   "cell_type": "markdown",
   "metadata": {},
   "source": [
    "![Alt text](https://www.plantuml.com/plantuml/png/RPAzJaCn38NtF8Nfr0xb0HYgLYp0IE41tCJqMkG7hXr4XNXtbAHHYTIbYey_dwFQTokAi-RWpOrE50Wmy16DfpS5JJ3pSL9mF9DLJj4Oj9fcs6js5FLSFKRHEPUdCGN4UFG4EukEmWb-30105h8e18kdn16iHv45e40fHs1l9tBP4mIAnLr8X5EiTE-D4y_8Gl2oWva-CubMj8eZz_hX4xeM3Z4fIIMRFABxV0Yi8CbdxU5DCrV-3Weyf9PR7zUHNNPCqTBYVr7H-hCiaokutS2oJApW3kXRAJffxJvn7HaZxoUoxts1-8NiyS2UzLIpQxUPzeKsqzeehXojpux4_1fplZMirvjwhK7eyuDOLpyeVNMNB-LYDseT7TL-eor5buF_0m00)\n"
   ]
  },
  {
   "cell_type": "markdown",
   "metadata": {},
   "source": [
    "Diagram Explanation\n",
    "-  Rectangle box ---> System Boundry \n",
    "-  Elipse --> Use case \n",
    "-  User outside rectangle --> Actor\n",
    "-  Includes --> A use case depends on another use case \n",
    "-  Extends  --> A use case having multiple ways of doing things "
   ]
  },
  {
   "cell_type": "markdown",
   "metadata": {},
   "source": [
    "# Class Diagram\n",
    "For more visit @ https://mermaid.js.org/syntax/classDiagram.html"
   ]
  },
  {
   "cell_type": "markdown",
   "metadata": {},
   "source": [
    "-   Class (Normal, Interface, Abstract)\n",
    "    -   Attributes \n",
    "    -   Methods\n",
    "    -   Access Modifiers \n",
    "\n",
    "-   Relationships \n",
    "    -   Inheritance \n",
    "    -   Association \n",
    "        -   Composition \n",
    "        -   Aggregation \n"
   ]
  },
  {
   "cell_type": "markdown",
   "metadata": {},
   "source": [
    "   \n",
    "### Example of class diagram \n",
    "\n",
    "```mermaid\n",
    "classDiagram\n",
    "classA --|> classB : Inheritance\n",
    "classC --* classD : Composition\n",
    "classE --o classF : Aggregation\n",
    "classG --> classH : Association\n",
    "classI -- classJ : Link(Solid)\n",
    "classK ..> classL : Dependency\n",
    "classM ..|> classN : Realization\n",
    "classO .. classP : Link(Dashed)\n",
    "```\n"
   ]
  },
  {
   "cell_type": "markdown",
   "metadata": {},
   "source": [
    "\n",
    "\n",
    "```mermaid\n",
    "---\n",
    "title: Animal example\n",
    "---\n",
    "classDiagram\n",
    "    note \"From Duck till Zebra\"\n",
    "    Animal <|-- Duck\n",
    "    note for Duck \"can fly\\ncan swim\\ncan dive\\ncan help in debugging\"\n",
    "    Animal <|-- Fish\n",
    "    Animal <|-- Zebra\n",
    "    Animal : +int age\n",
    "    Animal : +String gender\n",
    "    Animal: +isMammal()\n",
    "    Animal: +mate()\n",
    "    class Duck{\n",
    "        +String beakColor\n",
    "        +swim()\n",
    "        +quack()\n",
    "    }\n",
    "    class Fish{\n",
    "        -int sizeInFeet\n",
    "        -canEat()\n",
    "    }\n",
    "    class Zebra{\n",
    "        +bool is_wild\n",
    "        +run()\n",
    "    }\n",
    "```\n"
   ]
  },
  {
   "cell_type": "markdown",
   "metadata": {},
   "source": [
    "### How to idetify Composition and Aggregation ?\n",
    "\n",
    "-   Ex - User has a batch \n",
    "\n",
    "    -   1 user can have 1 batch \n",
    "    -   1 batch can have many users \n",
    "\n",
    "    USER (Many) -------------------- BATCH (1)\n",
    "\n",
    "    -   We always put reference on Many side \n",
    "    -   User has a batch or dependent upon batch (diamond <> will be on batch side)\n",
    "    -   diamond will be at child side\n",
    "    -   Diamond signifies association\n",
    "\n",
    "\n",
    "-   Diamond <> signify Association but is it a Aggreegation or Composition ?\n",
    "    -   Difference b/w Aggreegation and Composition is lifecycle, meaninig -\n",
    "\n",
    "    - COMPOSITION (Solid Diamond)\n",
    "        -   If parent is detroyed child can also be destroyed (Lifecycle of child dependent upon parent)\n",
    "\n",
    "    - AGGREGATION (Hollow Diamond)\n",
    "        -   If parent is detroyed child can't be destroyed (Parent child have independent lifecycle) \n",
    "\n",
    "\n",
    "\n",
    "-   Ex (Aggregation)\n",
    "    -   Student (Many) ------------- BATCH (1)\n",
    "    -   Student will have a dependency on School \n",
    "    -   If I destroy Student object can I destroy School object, NO because it is being used by other \n",
    "    -   Lifecycle of child and parent is independent \n",
    "\n",
    "-   Ex (Composition)\n",
    "    -   Student(1) -------------- Aadhar(1)\n",
    "    -   We have Aadhar in Student Class in code \n",
    "    -   On destroying Student we can destroy Aadhar\n",
    "\n"
   ]
  }
 ],
 "metadata": {
  "kernelspec": {
   "display_name": "env",
   "language": "python",
   "name": "python3"
  },
  "language_info": {
   "codemirror_mode": {
    "name": "ipython",
    "version": 3
   },
   "file_extension": ".py",
   "mimetype": "text/x-python",
   "name": "python",
   "nbconvert_exporter": "python",
   "pygments_lexer": "ipython3",
   "version": "3.11.4"
  }
 },
 "nbformat": 4,
 "nbformat_minor": 2
}
