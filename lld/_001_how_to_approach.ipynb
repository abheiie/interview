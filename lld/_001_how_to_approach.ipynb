{
 "cells": [
  {
   "cell_type": "markdown",
   "metadata": {},
   "source": [
    "# How to approach!\n",
    "\n",
    "![Alt text](https://d3n0h9tb65y8q.cloudfront.net/public_assets/assets/000/003/064/original/sdlc.png?1649415376)"
   ]
  },
  {
   "cell_type": "markdown",
   "metadata": {},
   "source": [
    "# Types of LLD Interview \n",
    "-   Technical (Theoretica)\n",
    "    -   OOP, Multithreading, Keywords \n",
    "\n",
    "-   Design (1 hour)\n",
    "    -   Design System\n",
    "\n",
    "-   Machind Coding (2:30 - 3 hours)\n",
    "    - Design System \n",
    "    - Code "
   ]
  }
 ],
 "metadata": {
  "language_info": {
   "name": "python"
  }
 },
 "nbformat": 4,
 "nbformat_minor": 2
}
